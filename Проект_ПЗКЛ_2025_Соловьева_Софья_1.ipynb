{
  "nbformat": 4,
  "nbformat_minor": 0,
  "metadata": {
    "colab": {
      "provenance": [],
      "collapsed_sections": [
        "oQMB0oygfdpq",
        "J8HcXv5RfnUW",
        "7H2ijKfbfsVL",
        "kg0z6Hz0_q-W",
        "pNn2XjlpAb01",
        "yf0Qp47jfyXB",
        "O9tEYCXLfp2O",
        "fiZ8pX37rEa3",
        "JYAlYxwfpGWO",
        "2NQqHEh-pWK7",
        "mR4A1SgmpOJJ",
        "h4tDtQ4ya7J7"
      ]
    },
    "kernelspec": {
      "name": "python3",
      "display_name": "Python 3"
    },
    "language_info": {
      "name": "python"
    }
  },
  "cells": [
    {
      "cell_type": "markdown",
      "source": [
        "# Извлечение мнений из новостных текстов посредством промптинга LLM (Mistral Small Version 25.03)"
      ],
      "metadata": {
        "id": "vZZowgigUuvz"
      }
    },
    {
      "cell_type": "markdown",
      "source": [
        "В данном проекте мы попытаемся с помощью промптинга настроить выдачу кортежей мнений моделью Mistral Small на данных соревнования RuOpinionNE-2024."
      ],
      "metadata": {
        "id": "8XK4NmVXWMrS"
      }
    },
    {
      "cell_type": "markdown",
      "source": [
        "Устанавливаем необходимую зависимость."
      ],
      "metadata": {
        "id": "O1LKWrkVXTak"
      }
    },
    {
      "cell_type": "code",
      "source": [
        "!pip install mistralai"
      ],
      "metadata": {
        "colab": {
          "base_uri": "https://localhost:8080/"
        },
        "id": "__KBkxKinVDA",
        "outputId": "ceb42356-5471-4957-e146-fba446fa9868"
      },
      "execution_count": null,
      "outputs": [
        {
          "output_type": "stream",
          "name": "stdout",
          "text": [
            "Requirement already satisfied: mistralai in /usr/local/lib/python3.11/dist-packages (1.7.0)\n",
            "Requirement already satisfied: eval-type-backport>=0.2.0 in /usr/local/lib/python3.11/dist-packages (from mistralai) (0.2.2)\n",
            "Requirement already satisfied: httpx>=0.28.1 in /usr/local/lib/python3.11/dist-packages (from mistralai) (0.28.1)\n",
            "Requirement already satisfied: pydantic>=2.10.3 in /usr/local/lib/python3.11/dist-packages (from mistralai) (2.11.3)\n",
            "Requirement already satisfied: python-dateutil>=2.8.2 in /usr/local/lib/python3.11/dist-packages (from mistralai) (2.8.2)\n",
            "Requirement already satisfied: typing-inspection>=0.4.0 in /usr/local/lib/python3.11/dist-packages (from mistralai) (0.4.0)\n",
            "Requirement already satisfied: anyio in /usr/local/lib/python3.11/dist-packages (from httpx>=0.28.1->mistralai) (4.9.0)\n",
            "Requirement already satisfied: certifi in /usr/local/lib/python3.11/dist-packages (from httpx>=0.28.1->mistralai) (2025.1.31)\n",
            "Requirement already satisfied: httpcore==1.* in /usr/local/lib/python3.11/dist-packages (from httpx>=0.28.1->mistralai) (1.0.8)\n",
            "Requirement already satisfied: idna in /usr/local/lib/python3.11/dist-packages (from httpx>=0.28.1->mistralai) (3.10)\n",
            "Requirement already satisfied: h11<0.15,>=0.13 in /usr/local/lib/python3.11/dist-packages (from httpcore==1.*->httpx>=0.28.1->mistralai) (0.14.0)\n",
            "Requirement already satisfied: annotated-types>=0.6.0 in /usr/local/lib/python3.11/dist-packages (from pydantic>=2.10.3->mistralai) (0.7.0)\n",
            "Requirement already satisfied: pydantic-core==2.33.1 in /usr/local/lib/python3.11/dist-packages (from pydantic>=2.10.3->mistralai) (2.33.1)\n",
            "Requirement already satisfied: typing-extensions>=4.12.2 in /usr/local/lib/python3.11/dist-packages (from pydantic>=2.10.3->mistralai) (4.13.2)\n",
            "Requirement already satisfied: six>=1.5 in /usr/local/lib/python3.11/dist-packages (from python-dateutil>=2.8.2->mistralai) (1.17.0)\n",
            "Requirement already satisfied: sniffio>=1.1 in /usr/local/lib/python3.11/dist-packages (from anyio->httpx>=0.28.1->mistralai) (1.3.1)\n"
          ]
        }
      ]
    },
    {
      "cell_type": "markdown",
      "source": [
        "## Промптинг модели"
      ],
      "metadata": {
        "id": "oQMB0oygfdpq"
      }
    },
    {
      "cell_type": "markdown",
      "source": [
        "Используем API непосредственно через собственный сервис La Platforme от Mistral AI. (Платно им пользоваться не получится, но создать аккаунт и пользоваться бесплатно - да)."
      ],
      "metadata": {
        "id": "kZWDDii5XdXC"
      }
    },
    {
      "cell_type": "code",
      "execution_count": null,
      "metadata": {
        "id": "yBVHSdsLmlNa"
      },
      "outputs": [],
      "source": [
        "from os import truncate\n",
        "from google.colab import userdata\n",
        "from mistralai import Mistral, models\n",
        "from mistralai.utils import BackoffStrategy, RetryConfig\n",
        "\n",
        "api_key = userdata.get(\"MISTRAL_API_KEY\")\n",
        "model = \"mistral-small-latest\"\n",
        "\n",
        "client = Mistral(\n",
        "    api_key=api_key,\n",
        "    retry_config=RetryConfig(\"backoff\", BackoffStrategy(1, 50, 1.1, 100), True),\n",
        ")\n",
        "\n",
        "def get_opinions(prompt, text):\n",
        "    chat_response = client.chat.complete(\n",
        "        model= model,\n",
        "        messages = [\n",
        "            {\n",
        "                \"role\": \"user\",\n",
        "                \"content\": f\"{prompt}\\n{text}\",\n",
        "            },\n",
        "        ],\n",
        "        temperature = 0.2\n",
        "    )\n",
        "    return chat_response.choices[0].message.content"
      ]
    },
    {
      "cell_type": "markdown",
      "source": [
        "Задаем изначальный промпт. Просим модель приводить свое рассуждение в надежде, что это улучшит качество."
      ],
      "metadata": {
        "id": "5_C-Pa4aYRKS"
      }
    },
    {
      "cell_type": "code",
      "source": [
        "PROMPT = \"\"\"Задача: выполнить сентимент-анализ текста с выделением кортежей мнений.\n",
        "Кортеж мнения состоит из следующих полей:\n",
        "  - \"Source\" - именованная сущность, являющаяся источником мнения\n",
        "  - \"Target\" - именованная сущность, являющаяся объектом мнения\n",
        "  - \"Polarity\" - полярность мнения (положительная или отрицательная)\n",
        "  - \"Polar_expression\" - выражение, которое передает мнение\n",
        "Для каждого выраженного в тексте мнения необходимо определить его источник, объект и конкретное выражение, которое содержит это мнение.\n",
        "Если источник мнения отсутствует, то Source = \"NULL\". Если источником мнения является автор новостного текста, то Source = \"AUTHOR\".\n",
        "Источник мнения не может быть выражен местоимением, в этом случае также Source = \"NULL\".\n",
        "В тексте может быть несколько мнений, либо не быть явно выраженных мнений.\n",
        "Текст имеет новостной характер, однако помни, что репортер или издание сами не являются источниками мнений, о которых сообщают.\n",
        "Ожидаемый формат ответа:\n",
        "\n",
        "```json\n",
        "[\n",
        "  {\n",
        "    \"Source\": \"\", # часть текста с источником мнения\n",
        "    \"Target\": \"\", # часть текста с объектом мнения\n",
        "    \"Polarity\": \"\" # \"POS\" for positive, \"NEG\" for negative\n",
        "    \"Polar_expression\": \"\" # часть текста с выражением мнения\n",
        "  },\n",
        "  # ...\n",
        "]\n",
        "```\n",
        "\n",
        "Сначала приведи рассуждения, где выделены и проанализированы все найденные в тексте мнения.\n",
        "После пройди по каждому мнению и проверь:\n",
        "  - источник и объект мнения указаны в том же падеже, в котором они встречаются в тексте (указать, в каком)\n",
        "  - выражение мнения также должно быть дословно по тексту (может содержать внутри объект, в таком случае его нужно также сохранить внутри строки)\n",
        "Затем приведи конечный результат в виде JSON. В ответе должен быть только один JSON-объект, если мнений не было, оставь его пустым списком.\n",
        "\n",
        "Текст:\n",
        "\"\"\""
      ],
      "metadata": {
        "id": "Np1QRLlgqmmx"
      },
      "execution_count": null,
      "outputs": []
    },
    {
      "cell_type": "code",
      "source": [
        "sample_news_text = \"Как сообщал Коммерсант 6 июня, член бюро высшего совета партии Андрей Исаев не исключил даже лишения Муртазы Рахимова партбилета. Муртаза отметил, что Исаев превышает свои полномочия.\"\n",
        "\n",
        "print(get_opinions(PROMPT, sample_news_text))"
      ],
      "metadata": {
        "colab": {
          "base_uri": "https://localhost:8080/"
        },
        "id": "2LI31VUHU2LZ",
        "outputId": "12e9aa8a-77f1-4208-cc09-122e70133007"
      },
      "execution_count": null,
      "outputs": [
        {
          "output_type": "stream",
          "name": "stdout",
          "text": [
            "### Рассуждения\n",
            "\n",
            "1. **Первое мнение:**\n",
            "   - **Источник:** Муртаза Рахимов\n",
            "   - **Объект:** Андрей Исаев\n",
            "   - **Выражение мнения:** \"превышает свои полномочия\"\n",
            "   - **Полярность:** Отрицательная\n",
            "\n",
            "   Рассуждение: В тексте Муртаза Рахимов выражает мнение о том, что Андрей Исаев превышает свои полномочия. Это мнение имеет отрицательную полярность.\n",
            "\n",
            "2. **Второе мнение:**\n",
            "   - **Источник:** Андрей Исаев\n",
            "   - **Объект:** Муртаза Рахимов\n",
            "   - **Выражение мнения:** \"не исключил даже лишения Муртазы Рахимова партбилета\"\n",
            "   - **Полярность:** Отрицательная\n",
            "\n",
            "   Рассуждение: Андрей Исаев не исключает лишения Муртазы Рахимова партбилета, что также является отрицательным мнением.\n",
            "\n",
            "### Проверка\n",
            "\n",
            "1. **Первое мнение:**\n",
            "   - **Источник:** Муртаза (в родительном падеже)\n",
            "   - **Объект:** Исаев (в именительном падеже)\n",
            "   - **Выражение мнения:** \"превышает свои полномочия\" (дословно)\n",
            "\n",
            "2. **Второе мнение:**\n",
            "   - **Источник:** Андрей Исаев (в именительном падеже)\n",
            "   - **Объект:** Муртаза Рахимов (в родительном падеже)\n",
            "   - **Выражение мнения:** \"не исключил даже лишения Муртазы Рахимова партбилета\" (дословно)\n",
            "\n",
            "### Конечный результат\n",
            "\n",
            "```json\n",
            "[\n",
            "  {\n",
            "    \"Source\": \"Муртаза\",\n",
            "    \"Target\": \"Исаев\",\n",
            "    \"Polarity\": \"NEG\",\n",
            "    \"Polar_expression\": \"превышает свои полномочия\"\n",
            "  },\n",
            "  {\n",
            "    \"Source\": \"Андрей Исаев\",\n",
            "    \"Target\": \"Муртаза Рахимова\",\n",
            "    \"Polarity\": \"NEG\",\n",
            "    \"Polar_expression\": \"не исключил даже лишения Муртазы Рахимова партбилета\"\n",
            "  }\n",
            "]\n",
            "```\n"
          ]
        }
      ]
    },
    {
      "cell_type": "markdown",
      "source": [
        "Вполне адекватный ответ."
      ],
      "metadata": {
        "id": "zXHoaEa-YgrR"
      }
    },
    {
      "cell_type": "markdown",
      "source": [
        "## Постобработка ответов модели"
      ],
      "metadata": {
        "id": "J8HcXv5RfnUW"
      }
    },
    {
      "cell_type": "markdown",
      "source": [
        "Создаем функции для возвращения интервала (треьуется форматом) и преобразования строчного формата в JSON (так же требуется форматом)."
      ],
      "metadata": {
        "id": "_7K5qJpPYmte"
      }
    },
    {
      "cell_type": "code",
      "source": [
        "import json\n",
        "\n",
        "def get_interval(text, phrase):\n",
        "    if phrase == 'AUTHOR':\n",
        "        return 'NULL'\n",
        "    if phrase == 'NULL':\n",
        "        return '0:0'\n",
        "    start_index = text.find(phrase)\n",
        "    # если точная строка не найдена, вернем всю строку\n",
        "    if start_index == -1:\n",
        "        return f\"0:{len(text)}\"\n",
        "    end_index = start_index + len(phrase)\n",
        "    return f\"{start_index}:{end_index}\"\n",
        "\n",
        "def extract_json(response):\n",
        "    stack = []\n",
        "    for i, char in enumerate(response):\n",
        "        if char in '{[':\n",
        "            stack.append((i, char))\n",
        "        elif char in '}]':\n",
        "            if not stack:\n",
        "                continue\n",
        "            start_i, start_char = stack.pop()\n",
        "            if (char == '}' and start_char != '{') or (char == ']' and start_char != '['):\n",
        "                # Mismatched brackets, reset stack\n",
        "                stack = []\n",
        "                continue\n",
        "            if not stack:\n",
        "                # Potential JSON found\n",
        "                json_str = response[start_i:i+1]\n",
        "                try:\n",
        "                    return json.loads(json_str)\n",
        "                except json.JSONDecodeError:\n",
        "                    # Invalid JSON, continue searching\n",
        "                    continue\n",
        "    return []\n",
        "\n",
        "def string2json(sample, output):\n",
        "    # Определяем идентификатор\n",
        "    sent_id = sample[\"sent_id\"]\n",
        "    # Определяем предложение\n",
        "    text = sample[\"text\"]\n",
        "\n",
        "    predicted_json = {\n",
        "      \"sent_id\": sent_id,\n",
        "      \"text\": text,\n",
        "      \"opinions\": []\n",
        "    }\n",
        "\n",
        "    # Преобразуем строку в Python-объект (список)\n",
        "    opinions_list = extract_json(output)\n",
        "\n",
        "    if opinions_list == []:\n",
        "      return predicted_json\n",
        "\n",
        "    if opinions_list[0]['Polarity'] not in ('POS', 'NEG'):\n",
        "      return predicted_json\n",
        "\n",
        "    # Создаем новый JSON-объект\n",
        "    predicted_json = {\n",
        "        \"sent_id\": sent_id,\n",
        "        \"text\": text,\n",
        "        \"opinions\": [{\"Source\": [[opinions_list[0][\"Source\"]], [get_interval(text, opinions_list[0][\"Source\"])]],\n",
        "                      \"Target\": [[opinions_list[0][\"Target\"]], [get_interval(text, opinions_list[0][\"Target\"])]],\n",
        "                      \"Polar_expression\": [[opinions_list[0][\"Polar_expression\"]], [get_interval(text, opinions_list[0][\"Polar_expression\"])]],\n",
        "                      \"Polarity\": opinions_list[0][\"Polarity\"]}]\n",
        "        }\n",
        "    return predicted_json"
      ],
      "metadata": {
        "id": "5USXh8f3Mgbh"
      },
      "execution_count": null,
      "outputs": []
    },
    {
      "cell_type": "markdown",
      "source": [
        "## Загрузка данных"
      ],
      "metadata": {
        "id": "7H2ijKfbfsVL"
      }
    },
    {
      "cell_type": "code",
      "source": [
        "import requests\n",
        "\n",
        "def load_json(path, url):\n",
        "\n",
        "  r = requests.get(url, allow_redirects=True)\n",
        "  with open(path, 'wb') as st:\n",
        "    st.write(r.content)\n",
        "\n",
        "  with open(path, 'r', encoding = 'utf8') as file:\n",
        "    data = list()\n",
        "    for line in file:\n",
        "        data_entry = json.loads(line)\n",
        "        data.append(data_entry)\n",
        "  return data"
      ],
      "metadata": {
        "id": "zOgB_URKNMAB"
      },
      "execution_count": null,
      "outputs": []
    },
    {
      "cell_type": "code",
      "source": [
        "url = 'https://raw.githubusercontent.com/dialogue-evaluation/RuOpinionNE-2024/master/train.jsonl'\n",
        "train_data = load_json(\"train.jsonl\", url)\n",
        "len(train_data)"
      ],
      "metadata": {
        "colab": {
          "base_uri": "https://localhost:8080/"
        },
        "id": "vR4q-mNceGOl",
        "outputId": "441651b1-c80b-4adf-eff3-bab6120bedd5"
      },
      "execution_count": null,
      "outputs": [
        {
          "output_type": "execute_result",
          "data": {
            "text/plain": [
              "2556"
            ]
          },
          "metadata": {},
          "execution_count": 72
        }
      ]
    },
    {
      "cell_type": "code",
      "source": [
        "url = \"https://raw.githubusercontent.com/dialogue-evaluation/RuOpinionNE-2024/master/validation_labeled.jsonl\"\n",
        "valid_data = load_json(\"validation.jsonl\", url)\n",
        "len(valid_data)"
      ],
      "metadata": {
        "colab": {
          "base_uri": "https://localhost:8080/"
        },
        "id": "OA2uNwdfNXtq",
        "outputId": "e93a7e82-4981-4e15-e119-8fbd007a5395"
      },
      "execution_count": null,
      "outputs": [
        {
          "output_type": "execute_result",
          "data": {
            "text/plain": [
              "1316"
            ]
          },
          "metadata": {},
          "execution_count": 73
        }
      ]
    },
    {
      "cell_type": "code",
      "source": [
        "url = \"https://raw.githubusercontent.com/dialogue-evaluation/RuOpinionNE-2024/refs/heads/master/test.jsonl\"\n",
        "test_data = load_json(\"test.jsonl\", url)\n",
        "len(test_data)"
      ],
      "metadata": {
        "colab": {
          "base_uri": "https://localhost:8080/"
        },
        "id": "D0tLY44bfRux",
        "outputId": "c2443606-7cd0-4985-a67a-717d8311f372"
      },
      "execution_count": null,
      "outputs": [
        {
          "output_type": "execute_result",
          "data": {
            "text/plain": [
              "803"
            ]
          },
          "metadata": {},
          "execution_count": 74
        }
      ]
    },
    {
      "cell_type": "markdown",
      "source": [
        "### Анализ"
      ],
      "metadata": {
        "id": "kg0z6Hz0_q-W"
      }
    },
    {
      "cell_type": "markdown",
      "source": [
        "Анализ скопирован из файла datasets_&_baselines.ipynb."
      ],
      "metadata": {
        "id": "Hl91iR7yZDS1"
      }
    },
    {
      "cell_type": "markdown",
      "metadata": {
        "id": "841c5f6a"
      },
      "source": [
        "Проанализиуем обучающую выборку.\n",
        "\n",
        "Определим минимальную, максимальную и среднюю длину текста. Отобразим распределение на графике."
      ]
    },
    {
      "cell_type": "code",
      "execution_count": null,
      "metadata": {
        "id": "7be6e18e",
        "outputId": "5d383d1d-20ac-4c15-de8d-688bc795ec20",
        "colab": {
          "base_uri": "https://localhost:8080/"
        }
      },
      "outputs": [
        {
          "output_type": "stream",
          "name": "stdout",
          "text": [
            "Минимальная длина текста: 5\n",
            "Максимальная длина текста: 201\n",
            "Средняя длина текста: 18.059\n"
          ]
        }
      ],
      "source": [
        "lens = [len(x['text'].split()) for x in train_data]\n",
        "\n",
        "max_l, min_l, mean_l = max(lens), min(lens), sum(lens)/len(lens)\n",
        "\n",
        "print(f'Минимальная длина текста: {min_l}')\n",
        "print(f'Максимальная длина текста: {max_l}')\n",
        "print(f'Средняя длина текста: {mean_l:.3f}')"
      ]
    },
    {
      "cell_type": "code",
      "execution_count": null,
      "metadata": {
        "id": "a6e14ec4",
        "outputId": "791b3bed-f5a6-4989-8db3-c0cd540e7b58",
        "colab": {
          "base_uri": "https://localhost:8080/",
          "height": 308
        }
      },
      "outputs": [
        {
          "output_type": "execute_result",
          "data": {
            "text/plain": [
              "<BarContainer object of 64 artists>"
            ]
          },
          "metadata": {},
          "execution_count": 6
        },
        {
          "output_type": "display_data",
          "data": {
            "text/plain": [
              "<Figure size 600x300 with 1 Axes>"
            ],
            "image/png": "[encoded data removed]"
          },
          "metadata": {}
        }
      ],
      "source": [
        "from collections import Counter\n",
        "from matplotlib import pyplot as plt\n",
        "\n",
        "len_counts = Counter(lens)\n",
        "plt.figure(figsize = (6,3))\n",
        "plt.bar(len_counts.keys(), len_counts.values())"
      ]
    },
    {
      "cell_type": "markdown",
      "metadata": {
        "id": "72084055"
      },
      "source": [
        "Выведем самый длинный текст."
      ]
    },
    {
      "cell_type": "code",
      "execution_count": null,
      "metadata": {
        "id": "5a1e36ff",
        "outputId": "06f1135e-6fbd-4948-ff54-3425ca6c2535",
        "colab": {
          "base_uri": "https://localhost:8080/"
        }
      },
      "outputs": [
        {
          "output_type": "stream",
          "name": "stdout",
          "text": [
            "2047\n",
            "Макеенко распространил следующее жёсткое видеообращение к Президенту Украины Виктору Януковичу: Я Владимир Макеенко обращаюсь лично к Вам господин Президент и к руководителям силовых структур События происходящие сегодня в столице Украины это трагедия всего украинского народа Я ответственно сообщаю что готов сделать все возможное для прекращения братоубийства и кровопролития в сердце Украины на Майдане Независимости Человеческая жизнь должна быть высшей ценностью в нашем государстве и ничто не может противоречить этому принципу В подтверждение своих слов я принял решение выйти из рядов Партии регионов и принять личную ответственность за жизнедеятельность города Киева Так сложилась моя судьба что в это тяжелое время на меня возложена огромная ответственность за каждого киевлянина Мы должны руководствоваться только интересами народа это единственный шанс сохранить жизнь людей Никакая власть не стоит человеческих жертв Ни один олигарх не погиб ни один политик не погиб я как руководитель Киевской администрации занимаюсь погребением десятков трупов простых людей Предлагаю каждому народному депутату независимо от партийного билета стать живой цепью между гражданами Украины в форме и гражданами Украины в гражданской одежде ради прекращения боевых действий и кровопролития Моя высшая цель сохранить человеческие жизни украинского Я буду исполнять обязанности председателя Киевской Городской Государственной администрации до тех пор пока мне доверяет народ Украины Другого пути нет\n"
          ]
        }
      ],
      "source": [
        "for elem in train_data:\n",
        "    if len(elem['text'].split()) == max_l:\n",
        "        print(elem['sent_id'])\n",
        "        print(elem['text'])"
      ]
    },
    {
      "cell_type": "markdown",
      "metadata": {
        "id": "d479d1fb"
      },
      "source": [
        "Определим количество текстов, состоящих из более чем одного предложения:"
      ]
    },
    {
      "cell_type": "code",
      "execution_count": null,
      "metadata": {
        "id": "18223283",
        "outputId": "17b8b7dc-64f4-4547-c817-8a1cdc748528",
        "colab": {
          "base_uri": "https://localhost:8080/"
        }
      },
      "outputs": [
        {
          "output_type": "stream",
          "name": "stdout",
          "text": [
            "85\n"
          ]
        }
      ],
      "source": [
        "count = 0\n",
        "for elem in train_data:\n",
        "    text = elem['text']\n",
        "    if '\\n' in text or '.' in text[:-1]:\n",
        "        count+=1\n",
        "print(count)"
      ]
    },
    {
      "cell_type": "markdown",
      "metadata": {
        "id": "51078d4f"
      },
      "source": [
        "Для дальнейшего анализа преобразуем обучающую выборку в датафрейм, где 1 мнение = 1 строка."
      ]
    },
    {
      "cell_type": "code",
      "execution_count": null,
      "metadata": {
        "id": "67fe9b2c"
      },
      "outputs": [],
      "source": [
        "opinions = []\n",
        "for elem in train_data:\n",
        "    for op in elem['opinions']:\n",
        "        # источник и интервал\n",
        "        if len(op['Source'][0]) > 1:\n",
        "            source_text = op['Source'][0]\n",
        "            source_span = op['Source'][1]\n",
        "        else:\n",
        "            source_text = op['Source'][0][0]\n",
        "            source_span = op['Source'][1][0]\n",
        "        # объект и интервал\n",
        "        if len(op['Target'][0]) > 1:\n",
        "            target_text = op['Target'][0]\n",
        "            target_span = op['Target'][1]\n",
        "        else:\n",
        "            target_text = op['Target'][0][0]\n",
        "            target_span = op['Target'][1][0]\n",
        "        # выражение и интервал\n",
        "        if len(op['Polar_expression'][0]) > 1:\n",
        "            exp_text = op['Polar_expression'][0]\n",
        "            exp_span = op['Polar_expression'][1]\n",
        "        else:\n",
        "            exp_text = op['Polar_expression'][0][0]\n",
        "            exp_span = op['Polar_expression'][1][0]\n",
        "        opinions.append([elem['sent_id'], elem['text'], source_text, target_text, exp_text,\n",
        "                       op['Polarity'], source_span, target_span, exp_span])"
      ]
    },
    {
      "cell_type": "code",
      "execution_count": null,
      "metadata": {
        "id": "1100a26d",
        "outputId": "ab9197a8-c752-4382-e04a-1bc751a6f59d",
        "colab": {
          "base_uri": "https://localhost:8080/",
          "height": 493
        }
      },
      "outputs": [
        {
          "output_type": "execute_result",
          "data": {
            "text/plain": [
              "      sent_id                                               text  \\\n",
              "0           0  Президент Башкирии Муртаза Рахимов в очередной...   \n",
              "1           1  Вчера он уволил Азамата Сагитова, который возг...   \n",
              "2           3  Как сообщил \"Ъ\" глава пресс-службы башкирского...   \n",
              "3           5  Этому назначению предшествовал громкий скандал...   \n",
              "4           6  Год назад в защиту опального башкирского чинов...   \n",
              "...       ...                                                ...   \n",
              "2899     2553  По его словам, он весьма тронут тёплым приёмом...   \n",
              "2900     2554  Пациент отметил, что здравоохранение Джибути н...   \n",
              "2901     2555  Кроме того, военные обеих стран проведут совме...   \n",
              "2902     2555  Кроме того, военные обеих стран проведут совме...   \n",
              "2903     2555  Кроме того, военные обеих стран проведут совме...   \n",
              "\n",
              "               Source                     Target          Polar_expression  \\\n",
              "0     Муртаза Рахимов  главу своей администрации                  поменять   \n",
              "1                NULL           Азамата Сагитова                    уволил   \n",
              "2     Муртаза Рахимов  главы своей администрации                  отставке   \n",
              "3                NULL             Радия Хабирова           громкий скандал   \n",
              "4       Единая Россия                   Хабирова                    защиту   \n",
              "...               ...                        ...                       ...   \n",
              "2899             NULL                    медиков  профессиональной помощью   \n",
              "2900             NULL                    Джибути          на низком уровне   \n",
              "2901      Гуан Байлин                    Джибути         укрепления дружбы   \n",
              "2902          Джибути                Гуан Байлин         укрепления дружбы   \n",
              "2903             NULL                    военные         укрепления дружбы   \n",
              "\n",
              "     Polarity Source_span Target_span Polar_expression_span  \n",
              "0         NEG       19:34       66:91                 57:65  \n",
              "1         NEG         0:0       16:32                  9:15  \n",
              "2         NEG       83:98     125:150               116:124  \n",
              "3         NEG         0:0     109:123                 31:46  \n",
              "4         POS       70:83     111:119                 12:18  \n",
              "...       ...         ...         ...                   ...  \n",
              "2899      POS         0:0       84:91                 49:73  \n",
              "2900      NEG         0:0       37:44                 55:71  \n",
              "2901      POS     103:114     139:146                 68:85  \n",
              "2902      POS     139:146     103:114                 68:85  \n",
              "2903      POS         0:0       12:19                 68:85  \n",
              "\n",
              "[2904 rows x 9 columns]"
            ],
            "text/html": [
              "\n",
              "  <div id=\"df-5fdf1ab4-2d75-49ac-9d27-6ea4ef8cd832\" class=\"colab-df-container\">\n",
              "    <div>\n",
              "<style scoped>\n",
              "    .dataframe tbody tr th:only-of-type {\n",
              "        vertical-align: middle;\n",
              "    }\n",
              "\n",
              "    .dataframe tbody tr th {\n",
              "        vertical-align: top;\n",
              "    }\n",
              "\n",
              "    .dataframe thead th {\n",
              "        text-align: right;\n",
              "    }\n",
              "</style>\n",
              "<table border=\"1\" class=\"dataframe\">\n",
              "  <thead>\n",
              "    <tr style=\"text-align: right;\">\n",
              "      <th></th>\n",
              "      <th>sent_id</th>\n",
              "      <th>text</th>\n",
              "      <th>Source</th>\n",
              "      <th>Target</th>\n",
              "      <th>Polar_expression</th>\n",
              "      <th>Polarity</th>\n",
              "      <th>Source_span</th>\n",
              "      <th>Target_span</th>\n",
              "      <th>Polar_expression_span</th>\n",
              "    </tr>\n",
              "  </thead>\n",
              "  <tbody>\n",
              "    <tr>\n",
              "      <th>0</th>\n",
              "      <td>0</td>\n",
              "      <td>Президент Башкирии Муртаза Рахимов в очередной...</td>\n",
              "      <td>Муртаза Рахимов</td>\n",
              "      <td>главу своей администрации</td>\n",
              "      <td>поменять</td>\n",
              "      <td>NEG</td>\n",
              "      <td>19:34</td>\n",
              "      <td>66:91</td>\n",
              "      <td>57:65</td>\n",
              "    </tr>\n",
              "    <tr>\n",
              "      <th>1</th>\n",
              "      <td>1</td>\n",
              "      <td>Вчера он уволил Азамата Сагитова, который возг...</td>\n",
              "      <td>NULL</td>\n",
              "      <td>Азамата Сагитова</td>\n",
              "      <td>уволил</td>\n",
              "      <td>NEG</td>\n",
              "      <td>0:0</td>\n",
              "      <td>16:32</td>\n",
              "      <td>9:15</td>\n",
              "    </tr>\n",
              "    <tr>\n",
              "      <th>2</th>\n",
              "      <td>3</td>\n",
              "      <td>Как сообщил \"Ъ\" глава пресс-службы башкирского...</td>\n",
              "      <td>Муртаза Рахимов</td>\n",
              "      <td>главы своей администрации</td>\n",
              "      <td>отставке</td>\n",
              "      <td>NEG</td>\n",
              "      <td>83:98</td>\n",
              "      <td>125:150</td>\n",
              "      <td>116:124</td>\n",
              "    </tr>\n",
              "    <tr>\n",
              "      <th>3</th>\n",
              "      <td>5</td>\n",
              "      <td>Этому назначению предшествовал громкий скандал...</td>\n",
              "      <td>NULL</td>\n",
              "      <td>Радия Хабирова</td>\n",
              "      <td>громкий скандал</td>\n",
              "      <td>NEG</td>\n",
              "      <td>0:0</td>\n",
              "      <td>109:123</td>\n",
              "      <td>31:46</td>\n",
              "    </tr>\n",
              "    <tr>\n",
              "      <th>4</th>\n",
              "      <td>6</td>\n",
              "      <td>Год назад в защиту опального башкирского чинов...</td>\n",
              "      <td>Единая Россия</td>\n",
              "      <td>Хабирова</td>\n",
              "      <td>защиту</td>\n",
              "      <td>POS</td>\n",
              "      <td>70:83</td>\n",
              "      <td>111:119</td>\n",
              "      <td>12:18</td>\n",
              "    </tr>\n",
              "    <tr>\n",
              "      <th>...</th>\n",
              "      <td>...</td>\n",
              "      <td>...</td>\n",
              "      <td>...</td>\n",
              "      <td>...</td>\n",
              "      <td>...</td>\n",
              "      <td>...</td>\n",
              "      <td>...</td>\n",
              "      <td>...</td>\n",
              "      <td>...</td>\n",
              "    </tr>\n",
              "    <tr>\n",
              "      <th>2899</th>\n",
              "      <td>2553</td>\n",
              "      <td>По его словам, он весьма тронут тёплым приёмом...</td>\n",
              "      <td>NULL</td>\n",
              "      <td>медиков</td>\n",
              "      <td>профессиональной помощью</td>\n",
              "      <td>POS</td>\n",
              "      <td>0:0</td>\n",
              "      <td>84:91</td>\n",
              "      <td>49:73</td>\n",
              "    </tr>\n",
              "    <tr>\n",
              "      <th>2900</th>\n",
              "      <td>2554</td>\n",
              "      <td>Пациент отметил, что здравоохранение Джибути н...</td>\n",
              "      <td>NULL</td>\n",
              "      <td>Джибути</td>\n",
              "      <td>на низком уровне</td>\n",
              "      <td>NEG</td>\n",
              "      <td>0:0</td>\n",
              "      <td>37:44</td>\n",
              "      <td>55:71</td>\n",
              "    </tr>\n",
              "    <tr>\n",
              "      <th>2901</th>\n",
              "      <td>2555</td>\n",
              "      <td>Кроме того, военные обеих стран проведут совме...</td>\n",
              "      <td>Гуан Байлин</td>\n",
              "      <td>Джибути</td>\n",
              "      <td>укрепления дружбы</td>\n",
              "      <td>POS</td>\n",
              "      <td>103:114</td>\n",
              "      <td>139:146</td>\n",
              "      <td>68:85</td>\n",
              "    </tr>\n",
              "    <tr>\n",
              "      <th>2902</th>\n",
              "      <td>2555</td>\n",
              "      <td>Кроме того, военные обеих стран проведут совме...</td>\n",
              "      <td>Джибути</td>\n",
              "      <td>Гуан Байлин</td>\n",
              "      <td>укрепления дружбы</td>\n",
              "      <td>POS</td>\n",
              "      <td>139:146</td>\n",
              "      <td>103:114</td>\n",
              "      <td>68:85</td>\n",
              "    </tr>\n",
              "    <tr>\n",
              "      <th>2903</th>\n",
              "      <td>2555</td>\n",
              "      <td>Кроме того, военные обеих стран проведут совме...</td>\n",
              "      <td>NULL</td>\n",
              "      <td>военные</td>\n",
              "      <td>укрепления дружбы</td>\n",
              "      <td>POS</td>\n",
              "      <td>0:0</td>\n",
              "      <td>12:19</td>\n",
              "      <td>68:85</td>\n",
              "    </tr>\n",
              "  </tbody>\n",
              "</table>\n",
              "<p>2904 rows × 9 columns</p>\n",
              "</div>\n",
              "    <div class=\"colab-df-buttons\">\n",
              "\n",
              "  <div class=\"colab-df-container\">\n",
              "    <button class=\"colab-df-convert\" onclick=\"convertToInteractive('df-5fdf1ab4-2d75-49ac-9d27-6ea4ef8cd832')\"\n",
              "            title=\"Convert this dataframe to an interactive table.\"\n",
              "            style=\"display:none;\">\n",
              "\n",
              "  <svg xmlns=\"http://www.w3.org/2000/svg\" height=\"24px\" viewBox=\"0 -960 960 960\">\n",
              "    <path d=\"M120-120v-720h720v720H120Zm60-500h600v-160H180v160Zm220 220h160v-160H400v160Zm0 220h160v-160H400v160ZM180-400h160v-160H180v160Zm440 0h160v-160H620v160ZM180-180h160v-160H180v160Zm440 0h160v-160H620v160Z\"/>\n",
              "  </svg>\n",
              "    </button>\n",
              "\n",
              "  <style>\n",
              "    .colab-df-container {\n",
              "      display:flex;\n",
              "      gap: 12px;\n",
              "    }\n",
              "\n",
              "    .colab-df-convert {\n",
              "      background-color: #E8F0FE;\n",
              "      border: none;\n",
              "      border-radius: 50%;\n",
              "      cursor: pointer;\n",
              "      display: none;\n",
              "      fill: #1967D2;\n",
              "      height: 32px;\n",
              "      padding: 0 0 0 0;\n",
              "      width: 32px;\n",
              "    }\n",
              "\n",
              "    .colab-df-convert:hover {\n",
              "      background-color: #E2EBFA;\n",
              "      box-shadow: 0px 1px 2px rgba(60, 64, 67, 0.3), 0px 1px 3px 1px rgba(60, 64, 67, 0.15);\n",
              "      fill: #174EA6;\n",
              "    }\n",
              "\n",
              "    .colab-df-buttons div {\n",
              "      margin-bottom: 4px;\n",
              "    }\n",
              "\n",
              "    [theme=dark] .colab-df-convert {\n",
              "      background-color: #3B4455;\n",
              "      fill: #D2E3FC;\n",
              "    }\n",
              "\n",
              "    [theme=dark] .colab-df-convert:hover {\n",
              "      background-color: #434B5C;\n",
              "      box-shadow: 0px 1px 3px 1px rgba(0, 0, 0, 0.15);\n",
              "      filter: drop-shadow(0px 1px 2px rgba(0, 0, 0, 0.3));\n",
              "      fill: #FFFFFF;\n",
              "    }\n",
              "  </style>\n",
              "\n",
              "    <script>\n",
              "      const buttonEl =\n",
              "        document.querySelector('#df-5fdf1ab4-2d75-49ac-9d27-6ea4ef8cd832 button.colab-df-convert');\n",
              "      buttonEl.style.display =\n",
              "        google.colab.kernel.accessAllowed ? 'block' : 'none';\n",
              "\n",
              "      async function convertToInteractive(key) {\n",
              "        const element = document.querySelector('#df-5fdf1ab4-2d75-49ac-9d27-6ea4ef8cd832');\n",
              "        const dataTable =\n",
              "          await google.colab.kernel.invokeFunction('convertToInteractive',\n",
              "                                                    [key], {});\n",
              "        if (!dataTable) return;\n",
              "\n",
              "        const docLinkHtml = 'Like what you see? Visit the ' +\n",
              "          '<a target=\"_blank\" href=https://colab.research.google.com/notebooks/data_table.ipynb>data table notebook</a>'\n",
              "          + ' to learn more about interactive tables.';\n",
              "        element.innerHTML = '';\n",
              "        dataTable['output_type'] = 'display_data';\n",
              "        await google.colab.output.renderOutput(dataTable, element);\n",
              "        const docLink = document.createElement('div');\n",
              "        docLink.innerHTML = docLinkHtml;\n",
              "        element.appendChild(docLink);\n",
              "      }\n",
              "    </script>\n",
              "  </div>\n",
              "\n",
              "\n",
              "<div id=\"df-72c6b5e1-3fca-4e39-9df2-f341e5a9b482\">\n",
              "  <button class=\"colab-df-quickchart\" onclick=\"quickchart('df-72c6b5e1-3fca-4e39-9df2-f341e5a9b482')\"\n",
              "            title=\"Suggest charts\"\n",
              "            style=\"display:none;\">\n",
              "\n",
              "<svg xmlns=\"http://www.w3.org/2000/svg\" height=\"24px\"viewBox=\"0 0 24 24\"\n",
              "     width=\"24px\">\n",
              "    <g>\n",
              "        <path d=\"M19 3H5c-1.1 0-2 .9-2 2v14c0 1.1.9 2 2 2h14c1.1 0 2-.9 2-2V5c0-1.1-.9-2-2-2zM9 17H7v-7h2v7zm4 0h-2V7h2v10zm4 0h-2v-4h2v4z\"/>\n",
              "    </g>\n",
              "</svg>\n",
              "  </button>\n",
              "\n",
              "<style>\n",
              "  .colab-df-quickchart {\n",
              "      --bg-color: #E8F0FE;\n",
              "      --fill-color: #1967D2;\n",
              "      --hover-bg-color: #E2EBFA;\n",
              "      --hover-fill-color: #174EA6;\n",
              "      --disabled-fill-color: #AAA;\n",
              "      --disabled-bg-color: #DDD;\n",
              "  }\n",
              "\n",
              "  [theme=dark] .colab-df-quickchart {\n",
              "      --bg-color: #3B4455;\n",
              "      --fill-color: #D2E3FC;\n",
              "      --hover-bg-color: #434B5C;\n",
              "      --hover-fill-color: #FFFFFF;\n",
              "      --disabled-bg-color: #3B4455;\n",
              "      --disabled-fill-color: #666;\n",
              "  }\n",
              "\n",
              "  .colab-df-quickchart {\n",
              "    background-color: var(--bg-color);\n",
              "    border: none;\n",
              "    border-radius: 50%;\n",
              "    cursor: pointer;\n",
              "    display: none;\n",
              "    fill: var(--fill-color);\n",
              "    height: 32px;\n",
              "    padding: 0;\n",
              "    width: 32px;\n",
              "  }\n",
              "\n",
              "  .colab-df-quickchart:hover {\n",
              "    background-color: var(--hover-bg-color);\n",
              "    box-shadow: 0 1px 2px rgba(60, 64, 67, 0.3), 0 1px 3px 1px rgba(60, 64, 67, 0.15);\n",
              "    fill: var(--button-hover-fill-color);\n",
              "  }\n",
              "\n",
              "  .colab-df-quickchart-complete:disabled,\n",
              "  .colab-df-quickchart-complete:disabled:hover {\n",
              "    background-color: var(--disabled-bg-color);\n",
              "    fill: var(--disabled-fill-color);\n",
              "    box-shadow: none;\n",
              "  }\n",
              "\n",
              "  .colab-df-spinner {\n",
              "    border: 2px solid var(--fill-color);\n",
              "    border-color: transparent;\n",
              "    border-bottom-color: var(--fill-color);\n",
              "    animation:\n",
              "      spin 1s steps(1) infinite;\n",
              "  }\n",
              "\n",
              "  @keyframes spin {\n",
              "    0% {\n",
              "      border-color: transparent;\n",
              "      border-bottom-color: var(--fill-color);\n",
              "      border-left-color: var(--fill-color);\n",
              "    }\n",
              "    20% {\n",
              "      border-color: transparent;\n",
              "      border-left-color: var(--fill-color);\n",
              "      border-top-color: var(--fill-color);\n",
              "    }\n",
              "    30% {\n",
              "      border-color: transparent;\n",
              "      border-left-color: var(--fill-color);\n",
              "      border-top-color: var(--fill-color);\n",
              "      border-right-color: var(--fill-color);\n",
              "    }\n",
              "    40% {\n",
              "      border-color: transparent;\n",
              "      border-right-color: var(--fill-color);\n",
              "      border-top-color: var(--fill-color);\n",
              "    }\n",
              "    60% {\n",
              "      border-color: transparent;\n",
              "      border-right-color: var(--fill-color);\n",
              "    }\n",
              "    80% {\n",
              "      border-color: transparent;\n",
              "      border-right-color: var(--fill-color);\n",
              "      border-bottom-color: var(--fill-color);\n",
              "    }\n",
              "    90% {\n",
              "      border-color: transparent;\n",
              "      border-bottom-color: var(--fill-color);\n",
              "    }\n",
              "  }\n",
              "</style>\n",
              "\n",
              "  <script>\n",
              "    async function quickchart(key) {\n",
              "      const quickchartButtonEl =\n",
              "        document.querySelector('#' + key + ' button');\n",
              "      quickchartButtonEl.disabled = true;  // To prevent multiple clicks.\n",
              "      quickchartButtonEl.classList.add('colab-df-spinner');\n",
              "      try {\n",
              "        const charts = await google.colab.kernel.invokeFunction(\n",
              "            'suggestCharts', [key], {});\n",
              "      } catch (error) {\n",
              "        console.error('Error during call to suggestCharts:', error);\n",
              "      }\n",
              "      quickchartButtonEl.classList.remove('colab-df-spinner');\n",
              "      quickchartButtonEl.classList.add('colab-df-quickchart-complete');\n",
              "    }\n",
              "    (() => {\n",
              "      let quickchartButtonEl =\n",
              "        document.querySelector('#df-72c6b5e1-3fca-4e39-9df2-f341e5a9b482 button');\n",
              "      quickchartButtonEl.style.display =\n",
              "        google.colab.kernel.accessAllowed ? 'block' : 'none';\n",
              "    })();\n",
              "  </script>\n",
              "</div>\n",
              "    </div>\n",
              "  </div>\n"
            ],
            "application/vnd.google.colaboratory.intrinsic+json": {
              "type": "dataframe",
              "variable_name": "df",
              "summary": "{\n  \"name\": \"df\",\n  \"rows\": 2904,\n  \"fields\": [\n    {\n      \"column\": \"sent_id\",\n      \"properties\": {\n        \"dtype\": \"number\",\n        \"std\": 751,\n        \"min\": 0,\n        \"max\": 2555,\n        \"num_unique_values\": 1494,\n        \"samples\": [\n          1795,\n          1687,\n          2401\n        ],\n        \"semantic_type\": \"\",\n        \"description\": \"\"\n      }\n    },\n    {\n      \"column\": \"text\",\n      \"properties\": {\n        \"dtype\": \"string\",\n        \"num_unique_values\": 1494,\n        \"samples\": [\n          \"\\u041b\\u0435\\u0447\\u0435\\u043d\\u0438\\u0435 \\u043f\\u0440\\u043e\\u0445\\u043e\\u0434\\u0438\\u043b\\u043e \\u043e\\u043a\\u043e\\u043b\\u043e \\u0442\\u0440\\u0451\\u0445 \\u043c\\u0435\\u0441\\u044f\\u0446\\u0435\\u0432, \\u043d\\u0430 \\u043f\\u0440\\u043e\\u0442\\u044f\\u0436\\u0435\\u043d\\u0438\\u0438 \\u043a\\u043e\\u0442\\u043e\\u0440\\u044b\\u0445 \\u0440\\u044f\\u0434\\u043e\\u043c \\u0441 \\u043d\\u0435\\u0439 \\u043d\\u0430\\u0445\\u043e\\u0434\\u0438\\u043b\\u0441\\u044f \\u0438 \\u043f\\u043e\\u0434\\u0434\\u0435\\u0440\\u0436\\u0438\\u0432\\u0430\\u043b \\u0435\\u0451 \\u0432\\u043e\\u0437\\u043b\\u044e\\u0431\\u043b\\u0435\\u043d\\u043d\\u044b\\u0439 \\u0411\\u0440\\u044d\\u0434 \\u041f\\u0438\\u0442\\u0442: \\u041d\\u0430\\u043c \\u0443\\u0434\\u0430\\u043b\\u043e\\u0441\\u044c \\u043d\\u0430\\u0439\\u0442\\u0438 \\u043c\\u043e\\u043c\\u0435\\u043d\\u0442\\u044b, \\u0447\\u0442\\u043e\\u0431\\u044b \\u043f\\u043e\\u0441\\u043c\\u0435\\u044f\\u0442\\u044c\\u0441\\u044f \\u0432\\u043c\\u0435\\u0441\\u0442\\u0435.\",\n          \"\\u042d\\u0442\\u043e \\u0440\\u0435\\u0448\\u0435\\u043d\\u0438\\u0435 \\u0441\\u0442\\u0430\\u043b\\u043e \\u0440\\u0435\\u0430\\u043a\\u0446\\u0438\\u0435\\u0439 \\u043d\\u0430 \\u043e\\u0431\\u0432\\u0438\\u043d\\u0435\\u043d\\u0438\\u044f \\u0432 \\u0430\\u0434\\u0440\\u0435\\u0441 \\u0430\\u0440\\u0435\\u0441\\u0442\\u043e\\u0432\\u0430\\u043d\\u043d\\u043e\\u0433\\u043e \\u0441\\u0442\\u0443\\u0434\\u0435\\u043d\\u0442\\u0430 \\u0438\\u0437 \\u041a\\u0430\\u0437\\u0430\\u0445\\u0441\\u0442\\u0430\\u043d\\u0430 \\u0410\\u0437\\u0430\\u043c\\u0430\\u0442\\u0430 \\u0422\\u0430\\u0436\\u0430\\u044f\\u043a\\u043e\\u0432\\u0430, \\u0443 \\u043a\\u043e\\u0442\\u043e\\u0440\\u043e\\u0433\\u043e \\u043d\\u0435 \\u0431\\u044b\\u043b\\u043e \\u0434\\u0435\\u0439\\u0441\\u0442\\u0432\\u0443\\u044e\\u0449\\u0435\\u0439 \\u0432\\u0438\\u0437\\u044b.\",\n          \"\\u0421\\u043b\\u043e\\u0432\\u0430 \\u0425\\u0435\\u0439\\u043b\\u0430 \\u0441\\u043e\\u0445\\u0440\\u0430\\u043d\\u0438\\u043b\\u0438 \\u0430\\u043a\\u0442\\u0443\\u0430\\u043b\\u044c\\u043d\\u043e\\u0441\\u0442\\u044c, \\u0432\\u043e\\u043f\\u043b\\u043e\\u0442\\u0438\\u0432\\u0448\\u0438\\u0441\\u044c \\u0432 1976 \\u0433\\u043e\\u0434\\u0443 \\u0432 \\u0443\\u0441\\u0442\\u0430\\u0432 \\u00ab\\u0413\\u043e\\u043b\\u043e\\u0441\\u0430 \\u0410\\u043c\\u0435\\u0440\\u0438\\u043a\\u0438\\u00bb, \\u043a\\u043e\\u0442\\u043e\\u0440\\u044b\\u0439 \\u043e\\u0431\\u044f\\u0437\\u044b\\u0432\\u0430\\u0435\\u0442 \\u0435\\u0433\\u043e \\u0440\\u0430\\u0431\\u043e\\u0442\\u043d\\u0438\\u043a\\u043e\\u0432 \\u00ab\\u0441\\u043b\\u0443\\u0436\\u0438\\u0442\\u044c \\u043d\\u0430\\u0434\\u0451\\u0436\\u043d\\u044b\\u043c \\u0438 \\u0430\\u0432\\u0442\\u043e\\u0440\\u0438\\u0442\\u0435\\u0442\\u043d\\u044b\\u043c \\u0438\\u0441\\u0442\\u043e\\u0447\\u043d\\u0438\\u043a\\u043e\\u043c \\u043d\\u043e\\u0432\\u043e\\u0441\\u0442\\u0435\\u0439\\u00bb.\"\n        ],\n        \"semantic_type\": \"\",\n        \"description\": \"\"\n      }\n    },\n    {\n      \"column\": \"Source\",\n      \"properties\": {\n        \"dtype\": \"category\",\n        \"num_unique_values\": 910,\n        \"samples\": [\n          \"\\u0410\\u0441\\u043b\\u0430\\u043d \\u0427\\u0435\\u0440\\u043a\\u0435\\u0441\\u043e\\u0432\",\n          \"\\u041d\\u0438\\u043a\\u043e\\u043b\\u0430\\u0441\\u0430 \\u041c\\u0430\\u0434\\u0443\\u0440\\u043e\",\n          \"\\u0410\\u043d\\u043d\\u0435 \\u041d\\u0438\\u043a\\u0438\\u0444\\u043e\\u0440\\u043e\\u0432\\u043e\\u0439\"\n        ],\n        \"semantic_type\": \"\",\n        \"description\": \"\"\n      }\n    },\n    {\n      \"column\": \"Target\",\n      \"properties\": {\n        \"dtype\": \"object\",\n        \"semantic_type\": \"\",\n        \"description\": \"\"\n      }\n    },\n    {\n      \"column\": \"Polar_expression\",\n      \"properties\": {\n        \"dtype\": \"object\",\n        \"semantic_type\": \"\",\n        \"description\": \"\"\n      }\n    },\n    {\n      \"column\": \"Polarity\",\n      \"properties\": {\n        \"dtype\": \"category\",\n        \"num_unique_values\": 2,\n        \"samples\": [\n          \"POS\",\n          \"NEG\"\n        ],\n        \"semantic_type\": \"\",\n        \"description\": \"\"\n      }\n    },\n    {\n      \"column\": \"Source_span\",\n      \"properties\": {\n        \"dtype\": \"category\",\n        \"num_unique_values\": 826,\n        \"samples\": [\n          \"75:81\",\n          \"36:52\"\n        ],\n        \"semantic_type\": \"\",\n        \"description\": \"\"\n      }\n    },\n    {\n      \"column\": \"Target_span\",\n      \"properties\": {\n        \"dtype\": \"object\",\n        \"semantic_type\": \"\",\n        \"description\": \"\"\n      }\n    },\n    {\n      \"column\": \"Polar_expression_span\",\n      \"properties\": {\n        \"dtype\": \"object\",\n        \"semantic_type\": \"\",\n        \"description\": \"\"\n      }\n    }\n  ]\n}"
            }
          },
          "metadata": {},
          "execution_count": 10
        }
      ],
      "source": [
        "import pandas as pd\n",
        "cols = ['sent_id', 'text', 'Source', 'Target', 'Polar_expression', 'Polarity', 'Source_span', 'Target_span', 'Polar_expression_span']\n",
        "df = pd.DataFrame(opinions, columns = cols)\n",
        "df"
      ]
    },
    {
      "cell_type": "markdown",
      "source": [
        "Оценим распределение классов тональности."
      ],
      "metadata": {
        "id": "4bU4Os1vsOjy"
      }
    },
    {
      "cell_type": "code",
      "execution_count": null,
      "metadata": {
        "id": "cc772097",
        "outputId": "a1755b7c-152f-48a1-c1db-666b8c529cce",
        "colab": {
          "base_uri": "https://localhost:8080/",
          "height": 414
        }
      },
      "outputs": [
        {
          "output_type": "stream",
          "name": "stdout",
          "text": [
            "Polarity\n",
            "NEG    1730\n",
            "POS    1174\n",
            "Name: count, dtype: int64\n"
          ]
        },
        {
          "output_type": "execute_result",
          "data": {
            "text/plain": [
              "<Axes: xlabel='Polarity'>"
            ]
          },
          "metadata": {},
          "execution_count": 11
        },
        {
          "output_type": "display_data",
          "data": {
            "text/plain": [
              "<Figure size 600x300 with 1 Axes>"
            ],
            "image/png": "[encoded data removed]"
          },
          "metadata": {}
        }
      ],
      "source": [
        "print(df['Polarity'].value_counts())\n",
        "\n",
        "plt.figure(figsize = (6,3))\n",
        "df['Polarity'].value_counts().plot.bar()"
      ]
    },
    {
      "cell_type": "markdown",
      "metadata": {
        "id": "c04b3382"
      },
      "source": [
        "Определим число текстов с множественными мнениями и отобразим распределение на графике."
      ]
    },
    {
      "cell_type": "code",
      "execution_count": null,
      "metadata": {
        "id": "cd33f895",
        "outputId": "013de9f9-9470-4c04-f599-08b9868f1ca7",
        "colab": {
          "base_uri": "https://localhost:8080/"
        }
      },
      "outputs": [
        {
          "output_type": "execute_result",
          "data": {
            "text/plain": [
              "Counter({23: 1,\n",
              "         14: 1,\n",
              "         12: 2,\n",
              "         11: 1,\n",
              "         10: 2,\n",
              "         9: 1,\n",
              "         8: 4,\n",
              "         7: 12,\n",
              "         6: 14,\n",
              "         5: 37,\n",
              "         4: 90,\n",
              "         3: 169,\n",
              "         2: 391,\n",
              "         1: 769})"
            ]
          },
          "metadata": {},
          "execution_count": 12
        }
      ],
      "source": [
        "textcount = Counter(df['text'].value_counts())\n",
        "textcount"
      ]
    },
    {
      "cell_type": "code",
      "execution_count": null,
      "metadata": {
        "id": "f4210c31",
        "outputId": "a93a5a14-78bc-4f01-ee7e-77e17778d676",
        "colab": {
          "base_uri": "https://localhost:8080/",
          "height": 312
        }
      },
      "outputs": [
        {
          "output_type": "execute_result",
          "data": {
            "text/plain": [
              "<BarContainer object of 14 artists>"
            ]
          },
          "metadata": {},
          "execution_count": 13
        },
        {
          "output_type": "display_data",
          "data": {
            "text/plain": [
              "<Figure size 600x300 with 1 Axes>"
            ],
            "image/png": "[encoded data removed]"
          },
          "metadata": {}
        }
      ],
      "source": [
        "plt.figure(figsize = (6,3))\n",
        "plt.bar(textcount.keys(), textcount.values())"
      ]
    },
    {
      "cell_type": "markdown",
      "metadata": {
        "id": "b3669605"
      },
      "source": [
        "Посчитаем максимальную и среднюю длину для источника, объекта и выражения. Выведем примеры."
      ]
    },
    {
      "cell_type": "code",
      "execution_count": null,
      "metadata": {
        "id": "3352bfca",
        "outputId": "76d0576c-bd5b-42ab-82c6-e0658d91ed59",
        "colab": {
          "base_uri": "https://localhost:8080/"
        }
      },
      "outputs": [
        {
          "output_type": "stream",
          "name": "stdout",
          "text": [
            "Максимальная длина источника: 7\n",
            "Средняя длина источника: 1.372\n",
            "Самый длиный источник:\n",
            "\"Революционные вооружённые силы Колумбии — Армия народа\"\n",
            "\"мировой судебный участок 363 Хамовнического района Москвы\"\n"
          ]
        }
      ],
      "source": [
        "sources = []\n",
        "for item in df['Source']:\n",
        "    if isinstance(item, str):\n",
        "        sources.append(item)\n",
        "    else:\n",
        "        sources+=item\n",
        "max_s = max([len(x.split()) for x in sources])\n",
        "mean_s = sum([len(x.split()) for x in sources])/len(sources)\n",
        "print(f'Максимальная длина источника: {max_s}')\n",
        "print(f'Средняя длина источника: {mean_s:.3f}')\n",
        "\n",
        "print(f'Самый длиный источник:')\n",
        "for item in df['Source']:\n",
        "    if isinstance(item, str) and len(item.split()) == max_s:\n",
        "        print(f'\"{item}\"')"
      ]
    },
    {
      "cell_type": "code",
      "execution_count": null,
      "metadata": {
        "id": "d8f82806",
        "outputId": "2a9b8cd5-9180-4487-c22f-88e43ab5e101",
        "colab": {
          "base_uri": "https://localhost:8080/"
        }
      },
      "outputs": [
        {
          "output_type": "stream",
          "name": "stdout",
          "text": [
            "Максимальная длина объекта: 12\n",
            "Средняя длина объекта: 1.499\n",
            "Самый длиный объект:\n",
            "\"Акционерным коммерческим банком содействия благотворительности и духовному развитию Отечества ПЕРЕСВЕТ Акционерное общество\"\n"
          ]
        }
      ],
      "source": [
        "targets = []\n",
        "for item in df['Target']:\n",
        "    if isinstance(item, str):\n",
        "        targets.append(item)\n",
        "    else:\n",
        "        targets+=item\n",
        "max_t = max([len(x.split()) for x in targets])\n",
        "mean_t = sum([len(x.split()) for x in targets])/len(targets)\n",
        "print(f'Максимальная длина объекта: {max_t}')\n",
        "print(f'Средняя длина объекта: {mean_t:.3f}')\n",
        "\n",
        "for item in df['Target']:\n",
        "    if isinstance(item, str) and len(item.split()) == max_t:\n",
        "        print(f'Самый длиный объект:\\n\"{item}\"')"
      ]
    },
    {
      "cell_type": "code",
      "execution_count": null,
      "metadata": {
        "id": "d2fe703c",
        "outputId": "d68de1ca-0526-48b9-de9a-4c0275f7dcd4",
        "colab": {
          "base_uri": "https://localhost:8080/"
        }
      },
      "outputs": [
        {
          "output_type": "stream",
          "name": "stdout",
          "text": [
            "Максимальная длина выражения: 18\n",
            "Средняя длина выражения: 2.562\n",
            "Самое длиное выражение:\n",
            "\"заговоре с целью организации взрывов в нью-йоркском метро и совершения терактов в городах Великобритании и других европейских стран\"\n"
          ]
        }
      ],
      "source": [
        "expressions = list()\n",
        "for item in df['Polar_expression']:\n",
        "    if isinstance(item, str):\n",
        "        expressions.append(item)\n",
        "    else:\n",
        "        expressions+=item\n",
        "max_e = max([len(x.split()) for x in expressions])\n",
        "mean_e = sum([len(x.split()) for x in expressions])/len(expressions)\n",
        "print(f'Максимальная длина выражения: {max_e}')\n",
        "print(f'Средняя длина выражения: {mean_e:.3f}')\n",
        "\n",
        "for item in df['Polar_expression']:\n",
        "    if isinstance(item, str) and len(item.split()) == max_e:\n",
        "        print(f'Самое длиное выражение:\\n\"{item}\"')"
      ]
    },
    {
      "cell_type": "markdown",
      "metadata": {
        "id": "00562e07"
      },
      "source": [
        "Определим самые частые источники."
      ]
    },
    {
      "cell_type": "code",
      "execution_count": null,
      "metadata": {
        "id": "8f3dbd2e",
        "outputId": "2184d4f3-be35-4a04-ca23-a9f645828a14",
        "colab": {
          "base_uri": "https://localhost:8080/",
          "height": 490
        }
      },
      "outputs": [
        {
          "output_type": "execute_result",
          "data": {
            "text/plain": [
              "Source\n",
              "NULL              897\n",
              "AUTHOR            384\n",
              "США                28\n",
              "Трамп              15\n",
              "Владимир Путин     14\n",
              "                 ... \n",
              "Эрик                1\n",
              "Time                1\n",
              "Гарсии              1\n",
              "Гарсия              1\n",
              "Джибути             1\n",
              "Name: count, Length: 910, dtype: int64"
            ],
            "text/html": [
              "<div>\n",
              "<style scoped>\n",
              "    .dataframe tbody tr th:only-of-type {\n",
              "        vertical-align: middle;\n",
              "    }\n",
              "\n",
              "    .dataframe tbody tr th {\n",
              "        vertical-align: top;\n",
              "    }\n",
              "\n",
              "    .dataframe thead th {\n",
              "        text-align: right;\n",
              "    }\n",
              "</style>\n",
              "<table border=\"1\" class=\"dataframe\">\n",
              "  <thead>\n",
              "    <tr style=\"text-align: right;\">\n",
              "      <th></th>\n",
              "      <th>count</th>\n",
              "    </tr>\n",
              "    <tr>\n",
              "      <th>Source</th>\n",
              "      <th></th>\n",
              "    </tr>\n",
              "  </thead>\n",
              "  <tbody>\n",
              "    <tr>\n",
              "      <th>NULL</th>\n",
              "      <td>897</td>\n",
              "    </tr>\n",
              "    <tr>\n",
              "      <th>AUTHOR</th>\n",
              "      <td>384</td>\n",
              "    </tr>\n",
              "    <tr>\n",
              "      <th>США</th>\n",
              "      <td>28</td>\n",
              "    </tr>\n",
              "    <tr>\n",
              "      <th>Трамп</th>\n",
              "      <td>15</td>\n",
              "    </tr>\n",
              "    <tr>\n",
              "      <th>Владимир Путин</th>\n",
              "      <td>14</td>\n",
              "    </tr>\n",
              "    <tr>\n",
              "      <th>...</th>\n",
              "      <td>...</td>\n",
              "    </tr>\n",
              "    <tr>\n",
              "      <th>Эрик</th>\n",
              "      <td>1</td>\n",
              "    </tr>\n",
              "    <tr>\n",
              "      <th>Time</th>\n",
              "      <td>1</td>\n",
              "    </tr>\n",
              "    <tr>\n",
              "      <th>Гарсии</th>\n",
              "      <td>1</td>\n",
              "    </tr>\n",
              "    <tr>\n",
              "      <th>Гарсия</th>\n",
              "      <td>1</td>\n",
              "    </tr>\n",
              "    <tr>\n",
              "      <th>Джибути</th>\n",
              "      <td>1</td>\n",
              "    </tr>\n",
              "  </tbody>\n",
              "</table>\n",
              "<p>910 rows × 1 columns</p>\n",
              "</div><br><label><b>dtype:</b> int64</label>"
            ]
          },
          "metadata": {},
          "execution_count": 17
        }
      ],
      "source": [
        "df['Source'].value_counts()"
      ]
    },
    {
      "cell_type": "markdown",
      "metadata": {
        "id": "623a6191"
      },
      "source": [
        "Посчитаем количество разрывных и множественных источников, объектов и выражений."
      ]
    },
    {
      "cell_type": "code",
      "execution_count": null,
      "metadata": {
        "id": "fcbc7c3c",
        "outputId": "689d1eab-8b5e-43f0-b609-d72b236ebabd",
        "colab": {
          "base_uri": "https://localhost:8080/"
        }
      },
      "outputs": [
        {
          "output_type": "stream",
          "name": "stdout",
          "text": [
            "Множественный/ фрагментированный источник: 0\n",
            "Множественный/ фрагментированный объект: 4\n",
            "Множественное/ фрагментированное выражение: 19\n"
          ]
        }
      ],
      "source": [
        "s, t, e = 0, 0, 0\n",
        "for i, row in df.iterrows():\n",
        "    if isinstance(row['Source'], list):\n",
        "        s+=1\n",
        "    if isinstance(row['Target'], list):\n",
        "        t+=1\n",
        "    if isinstance(row['Polar_expression'], list):\n",
        "        e+=1\n",
        "\n",
        "print(f'Множественный/ фрагментированный источник: {s}')\n",
        "print(f'Множественный/ фрагментированный объект: {t}')\n",
        "print(f'Множественное/ фрагментированное выражение: {e}')"
      ]
    },
    {
      "cell_type": "markdown",
      "metadata": {
        "id": "443b1238"
      },
      "source": [
        "Выведем примеры."
      ]
    },
    {
      "cell_type": "code",
      "execution_count": null,
      "metadata": {
        "id": "066f674e",
        "outputId": "a630f4b0-a17f-4aeb-d6ec-cfd86c7813d2",
        "colab": {
          "base_uri": "https://localhost:8080/"
        }
      },
      "outputs": [
        {
          "output_type": "stream",
          "name": "stdout",
          "text": [
            "['снял', 'ограничения на реализацию']\n",
            "['28:32', '125:150']\n",
            "['понизило', 'рейтинг']\n",
            "['102:110', '134:141']\n",
            "['крупные заемщики', 'имеют некоторые признаки аффилированности друг с другом либо с акционерами или менеджментом банка']\n",
            "['94:110', '124:221']\n",
            "['выпускники', 'становятся участниками ДТП']\n",
            "['132:142', '196:222']\n",
            "['имеет', 'необходимую поддержку']\n",
            "['26:31', '48:69']\n",
            "['имеет', 'необходимую поддержку']\n",
            "['26:31', '48:69']\n",
            "['На пост', 'готовят']\n",
            "['0:7', '63:70']\n",
            "['В Словакию', 'отправиться']\n",
            "['0:10', '37:48']\n",
            "['разрушившим', 'экономику']\n",
            "['177:188', '211:220']\n",
            "['контакты', 'приостановлены']\n",
            "['30:38', '56:70']\n",
            "['стала', 'донором']\n",
            "['101:106', '110:117']\n",
            "['Ситуация', 'остаётся нестабильной']\n",
            "['0:8', '23:44']\n",
            "['Желаю', 'здоровья']\n",
            "['306:311', '333:341']\n",
            "['играл', 'за']\n",
            "['32:37', '51:53']\n",
            "['лишить', 'мандата']\n",
            "['171:177', '189:196']\n",
            "['выиграл', 'чемпионский титул']\n",
            "['29:36', '49:66']\n",
            "['причастности', 'к убийству']\n",
            "['59:71', '79:89']\n",
            "['устраивали праздничные мероприятия', 'после смерти баронессы']\n",
            "['23:57', '98:120']\n",
            "['не все', 'солидарны']\n",
            "['7:13', '32:41']\n"
          ]
        }
      ],
      "source": [
        "for i, row in df.iterrows():\n",
        "    if isinstance(row['Polar_expression'], list):\n",
        "        print(row['Polar_expression'], row['Polar_expression_span'], sep = '\\n')"
      ]
    },
    {
      "cell_type": "markdown",
      "source": [
        "## Evaluation"
      ],
      "metadata": {
        "id": "pNn2XjlpAb01"
      }
    },
    {
      "cell_type": "markdown",
      "source": [
        "Для оценки качества используется скрипт evaluation.py, который необходимо скачать из соревнования."
      ],
      "metadata": {
        "id": "DmRrNowPE9zw"
      }
    },
    {
      "cell_type": "code",
      "source": [
        "!wget -q https://raw.githubusercontent.com/dialogue-evaluation/RuOpinionNE-2024/master/codalab/evaluation.py"
      ],
      "metadata": {
        "id": "S-QTdBeEZyZw"
      },
      "execution_count": null,
      "outputs": []
    },
    {
      "cell_type": "code",
      "source": [
        "import evaluation"
      ],
      "metadata": {
        "id": "h0H4rzOcZ142"
      },
      "execution_count": null,
      "outputs": []
    },
    {
      "cell_type": "markdown",
      "source": [
        "### Train data evaluation"
      ],
      "metadata": {
        "id": "yf0Qp47jfyXB"
      }
    },
    {
      "cell_type": "markdown",
      "source": [
        "Попробуем посчитать качество на части тренировочной выборки."
      ],
      "metadata": {
        "id": "zvrm4m_hEy7Z"
      }
    },
    {
      "cell_type": "code",
      "source": [
        "from tqdm.auto import tqdm\n",
        "from time import time, sleep"
      ],
      "metadata": {
        "id": "X4kfpkOtFXY5"
      },
      "execution_count": null,
      "outputs": []
    },
    {
      "cell_type": "code",
      "source": [
        "sample_size = 100\n",
        "\n",
        "progress_bar = tqdm(range(sample_size))\n",
        "train_output = []\n",
        "\n",
        "for sample in train_data[:sample_size]:\n",
        "  sample_output = get_opinions(PROMPT, sample[\"text\"])\n",
        "  train_output.append(sample_output)\n",
        "  progress_bar.update(1)\n",
        "  sleep(1) # avoid rate limit"
      ],
      "metadata": {
        "colab": {
          "base_uri": "https://localhost:8080/",
          "height": 49,
          "referenced_widgets": [
            "f241a842eb4346d3a3cb3fe221f6fa01",
            "3d5af27f86a44fb08197e824538fc2a4",
            "6ca85bf899624534afb0c5babae2cf6c",
            "e786b4810b1b40d697ff1f8aec141696",
            "9f150335dd624fd7a2880d292ce1677f",
            "fde2e0e8437c4ede9e0da00c4ead8115",
            "71457a2e95964473bc016beb430643b5",
            "7237b6f198ad4db0902085f2f31fc824",
            "2aeffc444ca34c90942d998a5d537a24",
            "f99ff32e2cfd4e1ba71eafcc2dabc655",
            "9b53e7db5618475d95d6ff17bb304fbf"
          ]
        },
        "id": "OJbGB6OqNYgX",
        "outputId": "0864c588-8110-4a46-a7c4-9c83c392a3c2"
      },
      "execution_count": null,
      "outputs": [
        {
          "output_type": "display_data",
          "data": {
            "text/plain": [
              "  0%|          | 0/100 [00:00<?, ?it/s]"
            ],
            "application/vnd.jupyter.widget-view+json": {
              "version_major": 2,
              "version_minor": 0,
              "model_id": "f241a842eb4346d3a3cb3fe221f6fa01"
            }
          },
          "metadata": {}
        }
      ]
    },
    {
      "cell_type": "code",
      "source": [
        "train_json_output = []\n",
        "for i in range(len(train_output)):\n",
        "  train_json_output.append(string2json(train_data[i], train_output[i]))"
      ],
      "metadata": {
        "id": "TXyJU3ISOcS3"
      },
      "execution_count": null,
      "outputs": []
    },
    {
      "cell_type": "code",
      "source": [
        "evaluation.do_eval_core(train_data[:sample_size], train_json_output)"
      ],
      "metadata": {
        "colab": {
          "base_uri": "https://localhost:8080/"
        },
        "id": "aUVnQ_JEZ44w",
        "outputId": "1e061409-5d0b-4f8d-fc9c-e309d58f24d6"
      },
      "execution_count": null,
      "outputs": [
        {
          "output_type": "execute_result",
          "data": {
            "text/plain": [
              "0.27968636168406735"
            ]
          },
          "metadata": {},
          "execution_count": 80
        }
      ]
    },
    {
      "cell_type": "markdown",
      "source": [
        "Качество в целом неплохое, но можно улучшить промпт."
      ],
      "metadata": {
        "id": "5ow3ZPVZZUyX"
      }
    },
    {
      "cell_type": "markdown",
      "source": [
        "### Использование асинхронных методов для оптимизации вычислений"
      ],
      "metadata": {
        "id": "O9tEYCXLfp2O"
      }
    },
    {
      "cell_type": "markdown",
      "source": [
        "Бесплатный доступ к Mistral API имеет ограничения - rate limit в 1 запрос в секунду. Для того, чтобы ускорить обработку большого количества данных, используем асинхронные методы, а также добавим обработку ошибок с повторным опросом в случае получения ошибки rate limit exceeded."
      ],
      "metadata": {
        "id": "xPYU8yJanyb1"
      }
    },
    {
      "cell_type": "code",
      "source": [
        "!pip install aiometer"
      ],
      "metadata": {
        "colab": {
          "base_uri": "https://localhost:8080/"
        },
        "id": "DGvhvcuSCic5",
        "outputId": "9a16f440-17c1-46a5-e273-c5dfabfd5bc3"
      },
      "execution_count": null,
      "outputs": [
        {
          "output_type": "stream",
          "name": "stdout",
          "text": [
            "Requirement already satisfied: aiometer in /usr/local/lib/python3.11/dist-packages (1.0.0)\n",
            "Requirement already satisfied: anyio<5,>=3.2 in /usr/local/lib/python3.11/dist-packages (from aiometer) (4.9.0)\n",
            "Requirement already satisfied: idna>=2.8 in /usr/local/lib/python3.11/dist-packages (from anyio<5,>=3.2->aiometer) (3.10)\n",
            "Requirement already satisfied: sniffio>=1.1 in /usr/local/lib/python3.11/dist-packages (from anyio<5,>=3.2->aiometer) (1.3.1)\n",
            "Requirement already satisfied: typing_extensions>=4.5 in /usr/local/lib/python3.11/dist-packages (from anyio<5,>=3.2->aiometer) (4.13.2)\n"
          ]
        }
      ]
    },
    {
      "cell_type": "code",
      "source": [
        "import asyncio\n",
        "import aiometer\n",
        "from tqdm.asyncio import tqdm as tqdm_asyncio\n",
        "\n",
        "\n",
        "async def async_get_response(sample):\n",
        "    text = sample[\"text\"]\n",
        "    result = {\"sent_id\": sample[\"sent_id\"], \"text\": text, \"response\": None}\n",
        "    try:\n",
        "      chat_response = await client.chat.complete_async(\n",
        "        model=model,\n",
        "        messages = [\n",
        "            {\n",
        "                \"role\": \"user\",\n",
        "                \"content\": f\"{PROMPT}\\n{text}\",\n",
        "            },\n",
        "        ],\n",
        "        temperature = 0.2,\n",
        "      )\n",
        "      result[\"response\"] = chat_response.choices[0].message.content\n",
        "    except models.SDKError as e:\n",
        "      result[\"response\"] = None\n",
        "    return result\n",
        "\n",
        "async def gather_responses(input_data):\n",
        "    async with aiometer.amap(async_get_response, input_data, max_at_once=10, max_per_second=0.9) as results:\n",
        "        return [\n",
        "            response async\n",
        "            for response in tqdm_asyncio(\n",
        "                results, total=len(input_data), position=0, leave=True\n",
        "            )\n",
        "        ]\n",
        "\n",
        "async def get_all_responses_with_retries(input_data):\n",
        "    all_responses = []\n",
        "    data_without_response = input_data\n",
        "\n",
        "    while len(data_without_response) > 0:\n",
        "        responses = await gather_responses(data_without_response)\n",
        "        error_responses = []\n",
        "        for resp in responses:\n",
        "            if resp[\"response\"] is not None:\n",
        "                all_responses.append(resp)\n",
        "            else:\n",
        "                error_responses.append(resp)\n",
        "        error_ids = [item[\"sent_id\"] for item in error_responses]\n",
        "        data_without_response = [\n",
        "            item for item in input_data\n",
        "            if item[\"sent_id\"] in error_ids\n",
        "        ]\n",
        "        await asyncio.sleep(1)\n",
        "\n",
        "    return sorted(all_responses, key=lambda x: x[\"sent_id\"])"
      ],
      "metadata": {
        "id": "quA2G5eECgBT"
      },
      "execution_count": null,
      "outputs": []
    },
    {
      "cell_type": "markdown",
      "source": [
        "Далее для оценки качества будем использовать данные из валидационной выборки (берем с конца, где больше примеров с непустыми мнениями)."
      ],
      "metadata": {
        "id": "Klf-vKb1EWnL"
      }
    },
    {
      "cell_type": "code",
      "source": [
        "sample_size = 100\n",
        "\n",
        "responses = await get_all_responses_with_retries(valid_data[-sample_size:])"
      ],
      "metadata": {
        "colab": {
          "base_uri": "https://localhost:8080/"
        },
        "id": "djHvyrNrhgl9",
        "outputId": "306bc03b-fddd-49af-af14-9f7393ffba33"
      },
      "execution_count": null,
      "outputs": [
        {
          "output_type": "stream",
          "name": "stderr",
          "text": [
            "100%|██████████| 100/100 [02:01<00:00,  1.21s/it]\n",
            "100%|██████████| 33/33 [00:39<00:00,  1.20s/it]\n",
            "100%|██████████| 8/8 [00:17<00:00,  2.16s/it]\n",
            "100%|██████████| 1/1 [00:01<00:00,  1.76s/it]\n"
          ]
        }
      ]
    },
    {
      "cell_type": "code",
      "source": [
        "responses_json = [\n",
        "    string2json(valid_data[item[\"sent_id\"]], item[\"response\"])\n",
        "    for item in responses\n",
        "]\n",
        "responses_json[6]"
      ],
      "metadata": {
        "colab": {
          "base_uri": "https://localhost:8080/"
        },
        "id": "DD2EyoBvZ_3z",
        "outputId": "5d7deac9-6a8a-4eeb-f3d1-7b94bc249db9"
      },
      "execution_count": null,
      "outputs": [
        {
          "output_type": "execute_result",
          "data": {
            "text/plain": [
              "{'sent_id': 1222,\n",
              " 'text': 'Джэнис Хан — члена городского совета Лос-Анджелеса недавно предложила сделать тоже самое и в этом крупнейшем в Калифорнии городе.',\n",
              " 'opinions': []}"
            ]
          },
          "metadata": {},
          "execution_count": 89
        }
      ]
    },
    {
      "cell_type": "code",
      "source": [
        "evaluation.do_eval_core(valid_data[-sample_size:], responses_json)"
      ],
      "metadata": {
        "colab": {
          "base_uri": "https://localhost:8080/"
        },
        "id": "bUitbJehbijJ",
        "outputId": "a4b9b557-40e0-43bc-d7a1-3b52e68db93c"
      },
      "execution_count": null,
      "outputs": [
        {
          "output_type": "execute_result",
          "data": {
            "text/plain": [
              "0.20870520151165964"
            ]
          },
          "metadata": {},
          "execution_count": 90
        }
      ]
    },
    {
      "cell_type": "markdown",
      "source": [
        "Качество на валидационной выборке очевидно хуже. Попробуем скорректировать промпт."
      ],
      "metadata": {
        "id": "hyjCacsmZgJO"
      }
    },
    {
      "cell_type": "markdown",
      "source": [
        "## Prompt engineering"
      ],
      "metadata": {
        "id": "fiZ8pX37rEa3"
      }
    },
    {
      "cell_type": "markdown",
      "source": [
        "Уберем из промпта просьбу о рассуждении и добавим некоторые примеры мнений."
      ],
      "metadata": {
        "id": "v1YWGu9YZrsY"
      }
    },
    {
      "cell_type": "code",
      "source": [
        "PROMPT = \"\"\"Задача: выполнить сентимент-анализ текста с выделением кортежей мнений.\n",
        "Кортеж мнения состоит из следующих полей:\n",
        "  - \"Source\" - именованная сущность, являющаяся источником мнения\n",
        "  - \"Target\" - именованная сущность, являющаяся объектом мнения\n",
        "  - \"Polarity\" - полярность мнения (положительная или отрицательная)\n",
        "  - \"Polar_expression\" - выражение, которое передает мнение\n",
        "Для каждого выраженного в тексте мнения необходимо определить его источник, объект и конкретное выражение, которое содержит это мнение.\n",
        "Если источник мнения отсутствует, то Source = \"NULL\". Если источником мнения является автор новостного текста, то Source = \"AUTHOR\".\n",
        "Источник мнения не может быть выражен местоимением, в этом случае также Source = \"NULL\".\n",
        "В тексте может быть несколько мнений, либо не быть явно выраженных мнений.\n",
        "Текст имеет новостной характер, однако помни, что репортер или издание сами не являются источниками мнений, о которых сообщают.\n",
        "Ожидаемый формат ответа:\n",
        "\n",
        "```json\n",
        "[\n",
        "  {\n",
        "    \"Source\": \"\", # часть текста с источником мнения\n",
        "    \"Target\": \"\", # часть текста с объектом мнения\n",
        "    \"Polar_expression\": \"\", # часть текста с выражением мнения\n",
        "    \"Polarity\": \"\" # \"POS\" for positive, \"NEG\" for negative\n",
        "  },\n",
        "  # ...\n",
        "]\n",
        "```\n",
        "\n",
        "Приведи конечный результат в виде JSON. В ответе должен быть только один JSON-объект, если мнений не было, оставь его пустым списком.\n",
        "\n",
        "Ниже представлены примеры выполнения задачи:\n",
        "***Текст***\n",
        "Премьер-министр Молдовы осудил террориста за бесчеловечные и жестокие действия.\n",
        "***Ответ***\n",
        "[{\"Source\": \"Премьер-министр Молдовы\", \"Target\": \"террориста\", \"Polarity\": \"NEG\", \"Polar_expression\": \"бесчеловечные и жестокие действия\"}]\n",
        "***Текст***\n",
        "Знаменитая актриса продемонстрировала человечность и простоту, достойную уважения публики.\n",
        "***Ответ***\n",
        "[{\"Source\": \"AUTHOR\", \"Target\": \"актриса\", \"Polarity\": \"POS\", \"Polar_expression\": \"продемонстрировала человечность и простоту, достойную уважения публики\"}]\n",
        "***Текст***\n",
        "Монеты, выпускаемые в знак благодарности всем трудившимся для преодоления пандемии COVID-19 (работникам здравоохранения, торговли, санитарии, транспорта) будут выпущены номиналами в 10 и 20 форинтов.\n",
        "***Ответ***\n",
        "[{\"Source\": \"NULL\", \"Target\": \"работникам здравоохранения\", \"Polarity\": \"POS\", \"Polar_expression\": \"трудившимся для преодоления\"}]\n",
        "\n",
        "Проанализируй таким же образом следующий текст.\n",
        "\"\"\""
      ],
      "metadata": {
        "id": "DRrW-x5yrOM5"
      },
      "execution_count": null,
      "outputs": []
    },
    {
      "cell_type": "code",
      "source": [
        "sample_size = 100\n",
        "\n",
        "responses = await get_all_responses_with_retries(valid_data[-sample_size:])\n",
        "responses_json = [\n",
        "    string2json(valid_data[item[\"sent_id\"]], item[\"response\"])\n",
        "    for item in responses\n",
        "]\n",
        "evaluation.do_eval_core(valid_data[-sample_size:], responses_json)"
      ],
      "metadata": {
        "colab": {
          "base_uri": "https://localhost:8080/"
        },
        "id": "G3kUThvur3tg",
        "outputId": "97189d00-251a-43e7-a94c-0c7273ce307a"
      },
      "execution_count": null,
      "outputs": [
        {
          "output_type": "stream",
          "name": "stderr",
          "text": [
            "100%|██████████| 100/100 [01:55<00:00,  1.16s/it]\n",
            "100%|██████████| 21/21 [00:33<00:00,  1.60s/it]\n",
            "100%|██████████| 4/4 [00:04<00:00,  1.12s/it]\n"
          ]
        },
        {
          "output_type": "execute_result",
          "data": {
            "text/plain": [
              "0.3069060005700612"
            ]
          },
          "metadata": {},
          "execution_count": 92
        }
      ]
    },
    {
      "cell_type": "markdown",
      "source": [
        "Видим, что качество повышается, если добавить примеры (few-shot), а также не просить приводить рассуждения, а только конечный результат."
      ],
      "metadata": {
        "id": "zZ9TAwGC1a4G"
      }
    },
    {
      "cell_type": "markdown",
      "source": [
        "## Подготовка и сохранение результатов для CodaLab"
      ],
      "metadata": {
        "id": "-6UJwU54gBZP"
      }
    },
    {
      "cell_type": "markdown",
      "source": [
        "### Старый метод"
      ],
      "metadata": {
        "id": "JYAlYxwfpGWO"
      }
    },
    {
      "cell_type": "markdown",
      "source": [
        "Сначала попробуем пройти по данным старым методом (что выходит дольше)."
      ],
      "metadata": {
        "id": "bKh9a3MIZ9tX"
      }
    },
    {
      "cell_type": "code",
      "source": [
        "progress_bar = tqdm(range(len(test_data)))\n",
        "test_output = []\n",
        "test_indices = []\n",
        "\n",
        "for sample in test_data:\n",
        "  sample_output = get_opinions(PROMPT, sample[\"text\"])\n",
        "  test_output.append(sample_output)\n",
        "  test_indices.append(sample[\"sent_id\"])\n",
        "  progress_bar.update(1)\n",
        "  sleep(1) # avoid rate limit"
      ],
      "metadata": {
        "colab": {
          "base_uri": "https://localhost:8080/",
          "height": 49,
          "referenced_widgets": [
            "1eb22f9cff8c40c893bdeb3fd4f8558d",
            "39dec9cd3daf4e7a80a04a76e3f1cb73",
            "0ecd8099d12b43f38658cb450fe0e47f",
            "60b87c21ee734fc9ba5d900e5a07dd3f",
            "dc11e03f523f478d9d8b4bd86a2ecec4",
            "880d05a9d95e4f6e9462fbe090859a52",
            "de0b81a4a6d8499fa115589ddde5ba2b",
            "ab56cb9890f043408f59c3281e5e4b7a",
            "56cf79ae8feb49ab9befea990d9d5868",
            "75e9d1da34cf4faebc0059ebbfb3e58f",
            "e1bee32733504a0db87d8ea1e72b4af9"
          ]
        },
        "id": "Q1v1EOk2gOdH",
        "outputId": "c97a406a-0d3e-402b-a5d1-20f368138c12"
      },
      "execution_count": null,
      "outputs": [
        {
          "output_type": "display_data",
          "data": {
            "text/plain": [
              "  0%|          | 0/803 [00:00<?, ?it/s]"
            ],
            "application/vnd.jupyter.widget-view+json": {
              "version_major": 2,
              "version_minor": 0,
              "model_id": "1eb22f9cff8c40c893bdeb3fd4f8558d"
            }
          },
          "metadata": {}
        }
      ]
    },
    {
      "cell_type": "code",
      "source": [
        "test_json_output = []\n",
        "for i, output in zip(test_indices, test_output):\n",
        "  test_json_output.append(string2json(test_data[i], output))"
      ],
      "metadata": {
        "id": "7JNchAH0gwNK"
      },
      "execution_count": null,
      "outputs": []
    },
    {
      "cell_type": "markdown",
      "source": [
        "Для успокоения и в целом на всякий случай сравниваем файлы, чтобы удостовериться, что совпадает количество предложений и их номера."
      ],
      "metadata": {
        "id": "C61ibjsmaKX5"
      }
    },
    {
      "cell_type": "code",
      "source": [
        "evaluation.do_eval_core(test_data, test_json_output)"
      ],
      "metadata": {
        "colab": {
          "base_uri": "https://localhost:8080/"
        },
        "id": "hX6sDmVu3piF",
        "outputId": "57ecbd80-1dd3-40db-d93d-811a173a7347"
      },
      "execution_count": null,
      "outputs": [
        {
          "output_type": "execute_result",
          "data": {
            "text/plain": [
              "0.0"
            ]
          },
          "metadata": {},
          "execution_count": 62
        }
      ]
    },
    {
      "cell_type": "markdown",
      "source": [
        "### Новый метод (async)"
      ],
      "metadata": {
        "id": "2NQqHEh-pWK7"
      }
    },
    {
      "cell_type": "markdown",
      "source": [
        "Используем новый метод (что выходит быстрее)."
      ],
      "metadata": {
        "id": "NNjBLs_GavcO"
      }
    },
    {
      "cell_type": "code",
      "source": [
        "test_responses = await get_all_responses_with_retries(test_data)"
      ],
      "metadata": {
        "colab": {
          "base_uri": "https://localhost:8080/"
        },
        "id": "cwCFWwcbpamO",
        "outputId": "13ca4e1c-c9d2-4fcd-cfee-25fd7c4fd450"
      },
      "execution_count": null,
      "outputs": [
        {
          "output_type": "stream",
          "name": "stderr",
          "text": [
            "100%|██████████| 803/803 [14:53<00:00,  1.11s/it]\n",
            "100%|██████████| 212/212 [04:03<00:00,  1.15s/it]\n",
            "100%|██████████| 45/45 [00:54<00:00,  1.22s/it]\n",
            "100%|██████████| 8/8 [00:07<00:00,  1.00it/s]\n",
            "100%|██████████| 2/2 [00:04<00:00,  2.24s/it]\n"
          ]
        }
      ]
    },
    {
      "cell_type": "code",
      "source": [
        "test_json_output = [\n",
        "    string2json(test_data[item[\"sent_id\"]], item[\"response\"])\n",
        "    for item in test_responses\n",
        "]\n",
        "len(test_json_output)"
      ],
      "metadata": {
        "colab": {
          "base_uri": "https://localhost:8080/"
        },
        "id": "2gfwgtFfpgR6",
        "outputId": "f813e629-2abb-4178-b6c8-d8ed875ec4ef"
      },
      "execution_count": null,
      "outputs": [
        {
          "output_type": "execute_result",
          "data": {
            "text/plain": [
              "803"
            ]
          },
          "metadata": {},
          "execution_count": 59
        }
      ]
    },
    {
      "cell_type": "code",
      "source": [
        "evaluation.do_eval_core(test_data, test_json_output)"
      ],
      "metadata": {
        "colab": {
          "base_uri": "https://localhost:8080/"
        },
        "id": "njji2JlipkNW",
        "outputId": "7d151456-abfe-4f7d-c751-27f370e96fc4"
      },
      "execution_count": null,
      "outputs": [
        {
          "output_type": "execute_result",
          "data": {
            "text/plain": [
              "0.0"
            ]
          },
          "metadata": {},
          "execution_count": 60
        }
      ]
    },
    {
      "cell_type": "markdown",
      "source": [
        "### Cохранение архива с файлом результатов"
      ],
      "metadata": {
        "id": "mR4A1SgmpOJJ"
      }
    },
    {
      "cell_type": "code",
      "source": [
        "with open('test_predictions.jsonl', 'w') as outfile:\n",
        "    for entry in test_json_output:\n",
        "        json.dump(entry, outfile, ensure_ascii=False)\n",
        "        outfile.write('\\n')"
      ],
      "metadata": {
        "id": "ZrIVSLa3ecia"
      },
      "execution_count": null,
      "outputs": []
    },
    {
      "cell_type": "code",
      "source": [
        "!zip test_predictions.zip test_predictions.jsonl"
      ],
      "metadata": {
        "colab": {
          "base_uri": "https://localhost:8080/"
        },
        "id": "u0t851nP8zKA",
        "outputId": "9164b5bc-baec-4b99-bcf1-63e184210558"
      },
      "execution_count": null,
      "outputs": [
        {
          "output_type": "stream",
          "name": "stdout",
          "text": [
            "updating: test_predictions.jsonl (deflated 78%)\n"
          ]
        }
      ]
    },
    {
      "cell_type": "markdown",
      "source": [
        "## Заключение и финальная метрика"
      ],
      "metadata": {
        "id": "h4tDtQ4ya7J7"
      }
    },
    {
      "cell_type": "markdown",
      "source": [
        "Мы получили финальное значение метрики равное 0.28."
      ],
      "metadata": {
        "id": "XtizohyHbD19"
      }
    },
    {
      "cell_type": "markdown",
      "source": [
        "![photo_2025-04-26_17-07-53.jpg](data:image/jpeg;base64,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)"
      ],
      "metadata": {
        "id": "QNlHICIrbiSg"
      }
    },
    {
      "cell_type": "markdown",
      "source": [
        "Какие выводы можно сделать:\n",
        "- для данной задачи достаточно few-shot, а chain-of-thought оказывается избыточным\n",
        "- для ускорения процесса можно использовать асинхронный метод/функции\n",
        "- модель достаточно хорошо понимает требуемый формат вывода, неплохо справляется в очевидных случаях, в менее очевидных случаях (мнение автора, отсутствие источника, фрагментированные мнения) модель довольно часто ошибается\n",
        "- модель так же хорошо понимает, когда мнений в тексте нет\n",
        "- слабости модели - опредеение границ мнений и определение самих источников и объектов\n",
        "- имеет склонность искажать падеж источников и объектов"
      ],
      "metadata": {
        "id": "muJJnRy8buMe"
      }
    }
  ]
}